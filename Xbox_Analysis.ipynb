{
 "cells": [
  {
   "cell_type": "code",
   "execution_count": 1,
   "metadata": {},
   "outputs": [
    {
     "data": {
      "text/html": [
       "<div>\n",
       "<style scoped>\n",
       "    .dataframe tbody tr th:only-of-type {\n",
       "        vertical-align: middle;\n",
       "    }\n",
       "\n",
       "    .dataframe tbody tr th {\n",
       "        vertical-align: top;\n",
       "    }\n",
       "\n",
       "    .dataframe thead th {\n",
       "        text-align: right;\n",
       "    }\n",
       "</style>\n",
       "<table border=\"1\" class=\"dataframe\">\n",
       "  <thead>\n",
       "    <tr style=\"text-align: right;\">\n",
       "      <th></th>\n",
       "      <th>Game_Name</th>\n",
       "      <th>Minutes_Played</th>\n",
       "      <th>GamerScore_Earned</th>\n",
       "      <th>GamerScore_Possible</th>\n",
       "      <th>Number_of_Achievements</th>\n",
       "    </tr>\n",
       "  </thead>\n",
       "  <tbody>\n",
       "    <tr>\n",
       "      <th>0</th>\n",
       "      <td>Paradise Killer</td>\n",
       "      <td>472</td>\n",
       "      <td>575</td>\n",
       "      <td>1000</td>\n",
       "      <td>23</td>\n",
       "    </tr>\n",
       "    <tr>\n",
       "      <th>1</th>\n",
       "      <td>TUNIC</td>\n",
       "      <td>17</td>\n",
       "      <td>10</td>\n",
       "      <td>1000</td>\n",
       "      <td>1</td>\n",
       "    </tr>\n",
       "    <tr>\n",
       "      <th>2</th>\n",
       "      <td>Marvel's Guardians of the Galaxy</td>\n",
       "      <td>848</td>\n",
       "      <td>745</td>\n",
       "      <td>1000</td>\n",
       "      <td>44</td>\n",
       "    </tr>\n",
       "    <tr>\n",
       "      <th>3</th>\n",
       "      <td>Young Souls</td>\n",
       "      <td>6</td>\n",
       "      <td>10</td>\n",
       "      <td>1000</td>\n",
       "      <td>1</td>\n",
       "    </tr>\n",
       "    <tr>\n",
       "      <th>4</th>\n",
       "      <td>Total War: Warhammer III</td>\n",
       "      <td>137</td>\n",
       "      <td>15</td>\n",
       "      <td>1080</td>\n",
       "      <td>3</td>\n",
       "    </tr>\n",
       "  </tbody>\n",
       "</table>\n",
       "</div>"
      ],
      "text/plain": [
       "                          Game_Name  Minutes_Played  GamerScore_Earned  \\\n",
       "0                   Paradise Killer             472                575   \n",
       "1                             TUNIC              17                 10   \n",
       "2  Marvel's Guardians of the Galaxy             848                745   \n",
       "3                       Young Souls               6                 10   \n",
       "4          Total War: Warhammer III             137                 15   \n",
       "\n",
       "   GamerScore_Possible  Number_of_Achievements  \n",
       "0                 1000                      23  \n",
       "1                 1000                       1  \n",
       "2                 1000                      44  \n",
       "3                 1000                       1  \n",
       "4                 1080                       3  "
      ]
     },
     "execution_count": 1,
     "metadata": {},
     "output_type": "execute_result"
    }
   ],
   "source": [
    "import pandas as pd\n",
    "import matplotlib.pyplot as plt\n",
    "\n",
    "df = pd.read_csv(\"XboxStats.csv\")\n",
    "pd.set_option(\"display.max_rows\", 10)\n",
    "df"
   ]
  },
  {
   "cell_type": "code",
   "execution_count": 2,
   "metadata": {},
   "outputs": [
    {
     "data": {
      "text/html": [
       "<div>\n",
       "<style scoped>\n",
       "    .dataframe tbody tr th:only-of-type {\n",
       "        vertical-align: middle;\n",
       "    }\n",
       "\n",
       "    .dataframe tbody tr th {\n",
       "        vertical-align: top;\n",
       "    }\n",
       "\n",
       "    .dataframe thead th {\n",
       "        text-align: right;\n",
       "    }\n",
       "</style>\n",
       "<table border=\"1\" class=\"dataframe\">\n",
       "  <thead>\n",
       "    <tr style=\"text-align: right;\">\n",
       "      <th></th>\n",
       "      <th>Game_Name</th>\n",
       "      <th>Minutes_Played</th>\n",
       "      <th>GamerScore_Earned</th>\n",
       "      <th>GamerScore_Possible</th>\n",
       "      <th>Number_of_Achievements</th>\n",
       "    </tr>\n",
       "  </thead>\n",
       "  <tbody>\n",
       "    <tr>\n",
       "      <th>2</th>\n",
       "      <td>Marvel's Guardians of the Galaxy</td>\n",
       "      <td>848</td>\n",
       "      <td>745</td>\n",
       "      <td>1000</td>\n",
       "      <td>44</td>\n",
       "    </tr>\n",
       "    <tr>\n",
       "      <th>0</th>\n",
       "      <td>Paradise Killer</td>\n",
       "      <td>472</td>\n",
       "      <td>575</td>\n",
       "      <td>1000</td>\n",
       "      <td>23</td>\n",
       "    </tr>\n",
       "    <tr>\n",
       "      <th>4</th>\n",
       "      <td>Total War: Warhammer III</td>\n",
       "      <td>137</td>\n",
       "      <td>15</td>\n",
       "      <td>1080</td>\n",
       "      <td>3</td>\n",
       "    </tr>\n",
       "    <tr>\n",
       "      <th>1</th>\n",
       "      <td>TUNIC</td>\n",
       "      <td>17</td>\n",
       "      <td>10</td>\n",
       "      <td>1000</td>\n",
       "      <td>1</td>\n",
       "    </tr>\n",
       "    <tr>\n",
       "      <th>3</th>\n",
       "      <td>Young Souls</td>\n",
       "      <td>6</td>\n",
       "      <td>10</td>\n",
       "      <td>1000</td>\n",
       "      <td>1</td>\n",
       "    </tr>\n",
       "  </tbody>\n",
       "</table>\n",
       "</div>"
      ],
      "text/plain": [
       "                          Game_Name  Minutes_Played  GamerScore_Earned  \\\n",
       "2  Marvel's Guardians of the Galaxy             848                745   \n",
       "0                   Paradise Killer             472                575   \n",
       "4          Total War: Warhammer III             137                 15   \n",
       "1                             TUNIC              17                 10   \n",
       "3                       Young Souls               6                 10   \n",
       "\n",
       "   GamerScore_Possible  Number_of_Achievements  \n",
       "2                 1000                      44  \n",
       "0                 1000                      23  \n",
       "4                 1080                       3  \n",
       "1                 1000                       1  \n",
       "3                 1000                       1  "
      ]
     },
     "execution_count": 2,
     "metadata": {},
     "output_type": "execute_result"
    }
   ],
   "source": [
    "top_five_games_minutes_played = df.sort_values(by = \"Minutes_Played\", ascending= False).iloc[0:5]\n",
    "top_five_games_minutes_played"
   ]
  },
  {
   "cell_type": "code",
   "execution_count": 3,
   "metadata": {},
   "outputs": [
    {
     "data": {
      "image/png": "[encoded data removed]",
      "text/plain": [
       "<Figure size 432x288 with 1 Axes>"
      ]
     },
     "metadata": {},
     "output_type": "display_data"
    }
   ],
   "source": [
    "def plot_stats(df, label, xlabel):\n",
    "\n",
    "    plt.barh(width = df[label], y = df[\"Game_Name\"], color = [\"Orange\", \"Blue\",  \"Green\", \"Red\", \"magenta\"])\n",
    "\n",
    "    plt.xlabel(xlabel)\n",
    "\n",
    "    for height , GamerScore in enumerate(df[label]):\n",
    "        plt.text(x = GamerScore / 2, y = height - 0.1, s = str(GamerScore))\n",
    "\n",
    "plt.rcParams.update({\"font.size\" : 12, \"font.weight\" : \"medium\"})\n",
    "plt.style.use(\"fivethirtyeight\")\n",
    "\n",
    "plot_stats(top_five_games_minutes_played, \"Minutes_Played\", \"Minutes Played\")"
   ]
  },
  {
   "cell_type": "code",
   "execution_count": 4,
   "metadata": {},
   "outputs": [
    {
     "data": {
      "text/html": [
       "<div>\n",
       "<style scoped>\n",
       "    .dataframe tbody tr th:only-of-type {\n",
       "        vertical-align: middle;\n",
       "    }\n",
       "\n",
       "    .dataframe tbody tr th {\n",
       "        vertical-align: top;\n",
       "    }\n",
       "\n",
       "    .dataframe thead th {\n",
       "        text-align: right;\n",
       "    }\n",
       "</style>\n",
       "<table border=\"1\" class=\"dataframe\">\n",
       "  <thead>\n",
       "    <tr style=\"text-align: right;\">\n",
       "      <th></th>\n",
       "      <th>Game_Name</th>\n",
       "      <th>Minutes_Played</th>\n",
       "      <th>GamerScore_Earned</th>\n",
       "      <th>GamerScore_Possible</th>\n",
       "      <th>Number_of_Achievements</th>\n",
       "    </tr>\n",
       "  </thead>\n",
       "  <tbody>\n",
       "    <tr>\n",
       "      <th>2</th>\n",
       "      <td>Marvel's Guardians of the Galaxy</td>\n",
       "      <td>848</td>\n",
       "      <td>745</td>\n",
       "      <td>1000</td>\n",
       "      <td>44</td>\n",
       "    </tr>\n",
       "    <tr>\n",
       "      <th>0</th>\n",
       "      <td>Paradise Killer</td>\n",
       "      <td>472</td>\n",
       "      <td>575</td>\n",
       "      <td>1000</td>\n",
       "      <td>23</td>\n",
       "    </tr>\n",
       "    <tr>\n",
       "      <th>4</th>\n",
       "      <td>Total War: Warhammer III</td>\n",
       "      <td>137</td>\n",
       "      <td>15</td>\n",
       "      <td>1080</td>\n",
       "      <td>3</td>\n",
       "    </tr>\n",
       "    <tr>\n",
       "      <th>1</th>\n",
       "      <td>TUNIC</td>\n",
       "      <td>17</td>\n",
       "      <td>10</td>\n",
       "      <td>1000</td>\n",
       "      <td>1</td>\n",
       "    </tr>\n",
       "    <tr>\n",
       "      <th>3</th>\n",
       "      <td>Young Souls</td>\n",
       "      <td>6</td>\n",
       "      <td>10</td>\n",
       "      <td>1000</td>\n",
       "      <td>1</td>\n",
       "    </tr>\n",
       "  </tbody>\n",
       "</table>\n",
       "</div>"
      ],
      "text/plain": [
       "                          Game_Name  Minutes_Played  GamerScore_Earned  \\\n",
       "2  Marvel's Guardians of the Galaxy             848                745   \n",
       "0                   Paradise Killer             472                575   \n",
       "4          Total War: Warhammer III             137                 15   \n",
       "1                             TUNIC              17                 10   \n",
       "3                       Young Souls               6                 10   \n",
       "\n",
       "   GamerScore_Possible  Number_of_Achievements  \n",
       "2                 1000                      44  \n",
       "0                 1000                      23  \n",
       "4                 1080                       3  \n",
       "1                 1000                       1  \n",
       "3                 1000                       1  "
      ]
     },
     "execution_count": 4,
     "metadata": {},
     "output_type": "execute_result"
    }
   ],
   "source": [
    "top_five_games_gamerscore = df.sort_values(by = \"GamerScore_Earned\", ascending = False).head()\n",
    "top_five_games_gamerscore"
   ]
  },
  {
   "cell_type": "code",
   "execution_count": 5,
   "metadata": {},
   "outputs": [
    {
     "data": {
      "image/png": "[encoded data removed]",
      "text/plain": [
       "<Figure size 432x288 with 1 Axes>"
      ]
     },
     "metadata": {},
     "output_type": "display_data"
    }
   ],
   "source": [
    "\n",
    "\n",
    "plot_stats(top_five_games_gamerscore,\"GamerScore_Earned\", \"GamerScore Earned\")"
   ]
  },
  {
   "cell_type": "code",
   "execution_count": 6,
   "metadata": {},
   "outputs": [
    {
     "data": {
      "text/html": [
       "<div>\n",
       "<style scoped>\n",
       "    .dataframe tbody tr th:only-of-type {\n",
       "        vertical-align: middle;\n",
       "    }\n",
       "\n",
       "    .dataframe tbody tr th {\n",
       "        vertical-align: top;\n",
       "    }\n",
       "\n",
       "    .dataframe thead th {\n",
       "        text-align: right;\n",
       "    }\n",
       "</style>\n",
       "<table border=\"1\" class=\"dataframe\">\n",
       "  <thead>\n",
       "    <tr style=\"text-align: right;\">\n",
       "      <th></th>\n",
       "      <th>Game_Name</th>\n",
       "      <th>Minutes_Played</th>\n",
       "      <th>GamerScore_Earned</th>\n",
       "      <th>GamerScore_Possible</th>\n",
       "      <th>Number_of_Achievements</th>\n",
       "    </tr>\n",
       "  </thead>\n",
       "  <tbody>\n",
       "    <tr>\n",
       "      <th>2</th>\n",
       "      <td>Marvel's Guardians of the Galaxy</td>\n",
       "      <td>848</td>\n",
       "      <td>745</td>\n",
       "      <td>1000</td>\n",
       "      <td>44</td>\n",
       "    </tr>\n",
       "    <tr>\n",
       "      <th>0</th>\n",
       "      <td>Paradise Killer</td>\n",
       "      <td>472</td>\n",
       "      <td>575</td>\n",
       "      <td>1000</td>\n",
       "      <td>23</td>\n",
       "    </tr>\n",
       "    <tr>\n",
       "      <th>4</th>\n",
       "      <td>Total War: Warhammer III</td>\n",
       "      <td>137</td>\n",
       "      <td>15</td>\n",
       "      <td>1080</td>\n",
       "      <td>3</td>\n",
       "    </tr>\n",
       "    <tr>\n",
       "      <th>1</th>\n",
       "      <td>TUNIC</td>\n",
       "      <td>17</td>\n",
       "      <td>10</td>\n",
       "      <td>1000</td>\n",
       "      <td>1</td>\n",
       "    </tr>\n",
       "    <tr>\n",
       "      <th>3</th>\n",
       "      <td>Young Souls</td>\n",
       "      <td>6</td>\n",
       "      <td>10</td>\n",
       "      <td>1000</td>\n",
       "      <td>1</td>\n",
       "    </tr>\n",
       "  </tbody>\n",
       "</table>\n",
       "</div>"
      ],
      "text/plain": [
       "                          Game_Name  Minutes_Played  GamerScore_Earned  \\\n",
       "2  Marvel's Guardians of the Galaxy             848                745   \n",
       "0                   Paradise Killer             472                575   \n",
       "4          Total War: Warhammer III             137                 15   \n",
       "1                             TUNIC              17                 10   \n",
       "3                       Young Souls               6                 10   \n",
       "\n",
       "   GamerScore_Possible  Number_of_Achievements  \n",
       "2                 1000                      44  \n",
       "0                 1000                      23  \n",
       "4                 1080                       3  \n",
       "1                 1000                       1  \n",
       "3                 1000                       1  "
      ]
     },
     "execution_count": 6,
     "metadata": {},
     "output_type": "execute_result"
    }
   ],
   "source": [
    "top_five_games_achievements = df.sort_values(by = \"Number_of_Achievements\", ascending = False).head()\n",
    "top_five_games_achievements"
   ]
  },
  {
   "cell_type": "code",
   "execution_count": 7,
   "metadata": {},
   "outputs": [
    {
     "data": {
      "image/png": "[encoded data removed]",
      "text/plain": [
       "<Figure size 432x288 with 1 Axes>"
      ]
     },
     "metadata": {},
     "output_type": "display_data"
    }
   ],
   "source": [
    "plot_stats(top_five_games_achievements, \"Number_of_Achievements\" , \"Number of Achievements\")"
   ]
  },
  {
   "cell_type": "code",
   "execution_count": 8,
   "metadata": {},
   "outputs": [
    {
     "data": {
      "text/html": [
       "<div>\n",
       "<style scoped>\n",
       "    .dataframe tbody tr th:only-of-type {\n",
       "        vertical-align: middle;\n",
       "    }\n",
       "\n",
       "    .dataframe tbody tr th {\n",
       "        vertical-align: top;\n",
       "    }\n",
       "\n",
       "    .dataframe thead th {\n",
       "        text-align: right;\n",
       "    }\n",
       "</style>\n",
       "<table border=\"1\" class=\"dataframe\">\n",
       "  <thead>\n",
       "    <tr style=\"text-align: right;\">\n",
       "      <th></th>\n",
       "      <th>Game_Name</th>\n",
       "      <th>Minutes_Played</th>\n",
       "      <th>GamerScore_Earned</th>\n",
       "      <th>GamerScore_Possible</th>\n",
       "      <th>Number_of_Achievements</th>\n",
       "      <th>GamerScore per Minute</th>\n",
       "    </tr>\n",
       "  </thead>\n",
       "  <tbody>\n",
       "    <tr>\n",
       "      <th>3</th>\n",
       "      <td>Young Souls</td>\n",
       "      <td>6</td>\n",
       "      <td>10</td>\n",
       "      <td>1000</td>\n",
       "      <td>1</td>\n",
       "      <td>1.667</td>\n",
       "    </tr>\n",
       "    <tr>\n",
       "      <th>0</th>\n",
       "      <td>Paradise Killer</td>\n",
       "      <td>472</td>\n",
       "      <td>575</td>\n",
       "      <td>1000</td>\n",
       "      <td>23</td>\n",
       "      <td>1.218</td>\n",
       "    </tr>\n",
       "    <tr>\n",
       "      <th>2</th>\n",
       "      <td>Marvel's Guardians of the Galaxy</td>\n",
       "      <td>848</td>\n",
       "      <td>745</td>\n",
       "      <td>1000</td>\n",
       "      <td>44</td>\n",
       "      <td>0.879</td>\n",
       "    </tr>\n",
       "    <tr>\n",
       "      <th>1</th>\n",
       "      <td>TUNIC</td>\n",
       "      <td>17</td>\n",
       "      <td>10</td>\n",
       "      <td>1000</td>\n",
       "      <td>1</td>\n",
       "      <td>0.588</td>\n",
       "    </tr>\n",
       "    <tr>\n",
       "      <th>4</th>\n",
       "      <td>Total War: Warhammer III</td>\n",
       "      <td>137</td>\n",
       "      <td>15</td>\n",
       "      <td>1080</td>\n",
       "      <td>3</td>\n",
       "      <td>0.109</td>\n",
       "    </tr>\n",
       "  </tbody>\n",
       "</table>\n",
       "</div>"
      ],
      "text/plain": [
       "                          Game_Name  Minutes_Played  GamerScore_Earned  \\\n",
       "3                       Young Souls               6                 10   \n",
       "0                   Paradise Killer             472                575   \n",
       "2  Marvel's Guardians of the Galaxy             848                745   \n",
       "1                             TUNIC              17                 10   \n",
       "4          Total War: Warhammer III             137                 15   \n",
       "\n",
       "   GamerScore_Possible  Number_of_Achievements  GamerScore per Minute  \n",
       "3                 1000                       1                  1.667  \n",
       "0                 1000                      23                  1.218  \n",
       "2                 1000                      44                  0.879  \n",
       "1                 1000                       1                  0.588  \n",
       "4                 1080                       3                  0.109  "
      ]
     },
     "execution_count": 8,
     "metadata": {},
     "output_type": "execute_result"
    }
   ],
   "source": [
    "most_efficient_minutes_played = df.copy()\n",
    "most_efficient_minutes_played['GamerScore per Minute'] = (most_efficient_minutes_played[\"GamerScore_Earned\"] / most_efficient_minutes_played[\"Minutes_Played\"]).round(3)\n",
    "\n",
    "import numpy as np\n",
    "\n",
    "most_efficient_minutes_played.replace([np.inf, -np.inf], np.nan, inplace = True)\n",
    "most_efficient_minutes_played.dropna(axis = 0, inplace= True)\n",
    "\n",
    "most_efficient_minutes_played.sort_values(by = \"GamerScore per Minute\", ascending= False, inplace= True)\n",
    "most_efficient_minutes_played = most_efficient_minutes_played.head()\n",
    "most_efficient_minutes_played"
   ]
  },
  {
   "cell_type": "code",
   "execution_count": 9,
   "metadata": {},
   "outputs": [
    {
     "data": {
      "image/png": "[encoded data removed]",
      "text/plain": [
       "<Figure size 432x288 with 1 Axes>"
      ]
     },
     "metadata": {},
     "output_type": "display_data"
    }
   ],
   "source": [
    "plot_stats(most_efficient_minutes_played, \"GamerScore per Minute\" , \"GamerScore per Minute\")"
   ]
  },
  {
   "cell_type": "code",
   "execution_count": null,
   "metadata": {},
   "outputs": [],
   "source": []
  }
 ],
 "metadata": {
  "interpreter": {
   "hash": "ac59ebe37160ed0dfa835113d9b8498d9f09ceb179beaac4002f036b9467c963"
  },
  "kernelspec": {
   "display_name": "Python 3.9.2 64-bit",
   "name": "python3"
  },
  "language_info": {
   "codemirror_mode": {
    "name": "ipython",
    "version": 3
   },
   "file_extension": ".py",
   "mimetype": "text/x-python",
   "name": "python",
   "nbconvert_exporter": "python",
   "pygments_lexer": "ipython3",
   "version": "3.10.2"
  },
  "orig_nbformat": 4
 },
 "nbformat": 4,
 "nbformat_minor": 2
}
